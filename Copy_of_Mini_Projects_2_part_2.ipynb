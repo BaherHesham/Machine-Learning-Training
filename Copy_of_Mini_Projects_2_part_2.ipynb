{
  "nbformat": 4,
  "nbformat_minor": 0,
  "metadata": {
    "colab": {
      "name": "Copy of Mini_Projects_2/ part 2.ipynb",
      "provenance": [],
      "include_colab_link": true
    },
    "kernelspec": {
      "name": "python3",
      "display_name": "Python 3"
    }
  },
  "cells": [
    {
      "cell_type": "markdown",
      "metadata": {
        "id": "view-in-github",
        "colab_type": "text"
      },
      "source": [
        "<a href=\"https://colab.research.google.com/github/BaherHesham/Machine-Learning-Training/blob/main/Copy_of_Mini_Projects_2_part_2.ipynb\" target=\"_parent\"><img src=\"https://colab.research.google.com/assets/colab-badge.svg\" alt=\"Open In Colab\"/></a>"
      ]
    },
    {
      "cell_type": "markdown",
      "metadata": {
        "id": "c2sSEq3uSurn"
      },
      "source": [
        "# Files and Exceptions"
      ]
    },
    {
      "cell_type": "markdown",
      "metadata": {
        "id": "qw2XyRs-TWIF"
      },
      "source": [
        "**8. Sum of Numbers** <br>\n",
        "Assume that a file containing a series of integers is named numbers.txt and exists on the computer’s disk. Write a program that reads all of the numbers stored in the file and calculates their total.\n"
      ]
    },
    {
      "cell_type": "code",
      "metadata": {
        "id": "92EStR9KSu8N",
        "colab": {
          "base_uri": "https://localhost:8080/",
          "height": 129
        },
        "outputId": "f07b4260-3b6b-4f2a-9081-988e3f3738c8"
      },
      "source": [
        "def main():   #create void function\n",
        "  import random   #import random module\n",
        "  content = open('numbers.txt' , 'w')   #file to write\n",
        "  for written_lines in range(1,21):\n",
        "    if written_lines <20:\n",
        "      new_numw = content.write(' ' + str(random.randrange(50)) + '\\n' )\n",
        "    else:\n",
        "      new_num = content.write(' ' + str(random.randrange(50)))\n",
        "\n",
        "  content.close()   #close the file\n",
        "    print('there are' + written_lines + 'of random numbers was written is the \\\" numbers.txt \\\" file' + '\\n')\n",
        "  \n",
        "  total  = sum(written_lines)   #call the function it's name is sum\n",
        "    print('\\n' + 'the total of these numbers = ',total)\n",
        "  \n",
        "  def sum(written_lines):   #create function it's name is Sum to return a value\n",
        "    summation=0\n",
        "\n",
        "    values = open('numbers.txt', 'r' )  #file to read\n",
        "\n",
        "    for read_lines in range(1,21):\n",
        "      new_numr = int(value.readline())\n",
        "      if read_lines <10:\n",
        "        print('num_0' , read_lines , ' = ' , new_numr , sep = '' )\n",
        "      else:\n",
        "        print('num_0' , read_lines , ' = ' , new_numr , sep = '' )\n",
        "      summation += new_numr   #cal the total of numbers\n",
        "\n",
        "      value.close()   #close the file\n",
        "      return summation\n",
        "\n",
        "      main()    #call the main function\n",
        "\n",
        "\n"
      ],
      "execution_count": null,
      "outputs": [
        {
          "output_type": "error",
          "ename": "IndentationError",
          "evalue": "ignored",
          "traceback": [
            "\u001b[0;36m  File \u001b[0;32m\"<ipython-input-2-badea757f5b1>\"\u001b[0;36m, line \u001b[0;32m11\u001b[0m\n\u001b[0;31m    print('there are' + written_lines ,\\ 'of random numbers was written is the \\\" numbers.txt \\\" file' + '\\n')\u001b[0m\n\u001b[0m    ^\u001b[0m\n\u001b[0;31mIndentationError\u001b[0m\u001b[0;31m:\u001b[0m unexpected indent\n"
          ]
        }
      ]
    },
    {
      "cell_type": "code",
      "metadata": {
        "id": "B7GImG_lSu-u"
      },
      "source": [
        ""
      ],
      "execution_count": null,
      "outputs": []
    },
    {
      "cell_type": "markdown",
      "metadata": {
        "id": "gW0mWcdDVgK4"
      },
      "source": [
        "**9. Average of Numbers** <br>\n",
        "Assume that a file containing a series of integers is named numbers.txt and exists on the computer’s disk. Write a program that calculates the average of all the numbers stored in\n",
        "the file"
      ]
    },
    {
      "cell_type": "code",
      "metadata": {
        "id": "3-DZx-vnSvCe",
        "colab": {
          "base_uri": "https://localhost:8080/",
          "height": 129
        },
        "outputId": "ddc54293-ce25-4769-8dda-e6ea5fb3c975"
      },
      "source": [
        "def main():   #create function it's name is Sum to return a value\n",
        "    summation=0\n",
        "\n",
        "    values = open('numbers.txt', 'r' )  #file to read\n",
        "\n",
        "    for read_lines in range(1,51):\n",
        "      new_num = int(value.readline())\n",
        "      \n",
        "      summation += new_num\n",
        "\n",
        "      values.close()\n",
        "\n",
        "      print('The average of the all numbers in file = ' , format(summation / read_lines, '.1f'))\n",
        "      main()    #call the main function\n"
      ],
      "execution_count": null,
      "outputs": [
        {
          "output_type": "error",
          "ename": "IndentationError",
          "evalue": "ignored",
          "traceback": [
            "\u001b[0;36m  File \u001b[0;32m\"<ipython-input-5-1a5a12109f94>\"\u001b[0;36m, line \u001b[0;32m6\u001b[0m\n\u001b[0;31m    for written_lines in range(int_numbers):\u001b[0m\n\u001b[0m    ^\u001b[0m\n\u001b[0;31mIndentationError\u001b[0m\u001b[0;31m:\u001b[0m unexpected indent\n"
          ]
        }
      ]
    },
    {
      "cell_type": "markdown",
      "metadata": {
        "id": "vjchCYETVwPx"
      },
      "source": [
        "**10. Random Number File Writer**<br>\n",
        "Write a program that writes a series of random numbers to a file. Each random number should be in the range of 1 \n",
        "through 500. The application should let the user specify how\n",
        "many random numbers the file will hold.\n"
      ]
    },
    {
      "cell_type": "code",
      "metadata": {
        "id": "DCyba_BZVxLF"
      },
      "source": [
        "def main():\n",
        "  import random\n",
        "  int_numbers = int(input('enter the numbers you want to enter it in the numbers.txt'))\n",
        "\n",
        "  content = open('random numbers.txt ' , 'w')\n",
        "    for written_lines in range(int_numbers):\n",
        "      if written_lines < int_numbers - 1:\n",
        "        new_number = content.write(' ' + str(random.randrange(1,251)) + '\\n')\n",
        "      else:\n",
        "        new_number = content.write(' ' + str(random.randrange(1,251)))\n",
        "      \n",
        "      content.close()\n",
        "      print('\\n' + 'There are' , written_lines +1,\\ 'random numbers was written in the random numbers.text file')\n",
        "\n",
        "  \n",
        "main()"
      ],
      "execution_count": null,
      "outputs": []
    },
    {
      "cell_type": "code",
      "metadata": {
        "id": "uZ7CQJM0VxN5"
      },
      "source": [
        ""
      ],
      "execution_count": null,
      "outputs": []
    },
    {
      "cell_type": "markdown",
      "metadata": {
        "id": "p75ZKqbXWMdY"
      },
      "source": [
        "**11.  Exception Handing** <br>\n",
        "Modify the program that you wrote for Exercise 9 so it handles the following exceptions: <br>\n",
        "* It should handle any IOError exceptions that are raised when the file is opened and data\n",
        "is read from it. <br>\n",
        "* It should handle any ValueError exceptions that are raised when the items that are read from the file are converted to a number."
      ]
    },
    {
      "cell_type": "code",
      "metadata": {
        "id": "22SOHQbrVxRE"
      },
      "source": [
        "#part (1)\n",
        "\n",
        "def main():\n",
        "  content = open('modified_numbers.txt','w')\n",
        "  for written_lines in range(1,51):\n",
        "    if written_lines <10:\n",
        "        content.write('num_0' + str(written_lines) + '\\n')\n",
        "    elif 10 <= written_lines < 50:\n",
        "        content.write('num_' + str(written_lines) + '\\n')\n",
        "    else:\n",
        "        content.write('num_' + str(written_lines) + '\\n')\n",
        "    \n",
        "  content.close()\n",
        "\n",
        "  main()"
      ],
      "execution_count": null,
      "outputs": []
    },
    {
      "cell_type": "code",
      "metadata": {
        "id": "3p0MENR_WrBV"
      },
      "source": [
        "#part (2)\n",
        "\n",
        "def main():\n",
        "  try:\n",
        "\n",
        "      file_name = input('what is the name of the needed file?' + '\\n')\n",
        "\n",
        "      summation = 0\n",
        "\n",
        "      data = open(file_name, 'r')\n",
        "\n",
        "      for read_lines in range(1,51):\n",
        "        new_num = int(data.readlines())\n",
        "\n",
        "        summation += new_num\n",
        "\n",
        "        data.close()\n",
        "\n",
        "        except Exception as err:\n",
        "          print(err)\n",
        "        except ValueError as err:\n",
        "          print(err)\n",
        "\n",
        "        else:\n",
        "          print\n",
        "        print('The average of the all numbers in file = ' , format(summation / read_lines, '.1f'))\n",
        "\n",
        "main()\n"
      ],
      "execution_count": null,
      "outputs": []
    }
  ]
}